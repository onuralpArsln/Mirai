{
 "cells": [
  {
   "cell_type": "markdown",
   "metadata": {},
   "source": [
    "# How To Sort DataSet"
   ]
  },
  {
   "cell_type": "code",
   "execution_count": null,
   "metadata": {},
   "outputs": [],
   "source": [
    "import os\n",
    "import shutil\n"
   ]
  },
  {
   "cell_type": "code",
   "execution_count": null,
   "metadata": {},
   "outputs": [],
   "source": [
    "source_dir = '/faces'\n",
    "confused_dir = '/confused' # fear disgust neutral\n",
    "focused_dir=\"/focused\" # happiness anger neutral\n",
    "distracted_dir=\"/distracted\" # fear disgust sadness\n",
    "\n",
    "angerName1 = '_a_a'\n",
    "angerName2 = '_a_b'\n",
    "\n",
    "fearName1 = '_f_a'\n",
    "fearName2 = '_f_b'\n",
    "\n",
    "disgustName1='_d_a'\n",
    "disgustName2='_d_b'\n",
    "\n",
    "neutralName1='_n_a'\n",
    "neutralName2='_n_b'\n",
    "\n",
    "happyName1='_h_a'\n",
    "happyName2='_h_b'\n",
    "\n",
    "sadName1='_s_a'\n",
    "sadName2='_s_b'\n",
    "\n",
    "\n",
    "\n",
    "\n",
    "\n",
    "\n",
    "\n"
   ]
  }
 ],
 "metadata": {
  "language_info": {
   "name": "python"
  }
 },
 "nbformat": 4,
 "nbformat_minor": 2
}
