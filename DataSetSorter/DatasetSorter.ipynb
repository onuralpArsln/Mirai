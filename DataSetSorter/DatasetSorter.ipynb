{
 "cells": [
  {
   "cell_type": "markdown",
   "metadata": {},
   "source": [
    "# How To Sort DataSet"
   ]
  },
  {
   "cell_type": "code",
   "execution_count": 8,
   "metadata": {},
   "outputs": [],
   "source": [
    "import os\n",
    "import shutil\n"
   ]
  },
  {
   "cell_type": "code",
   "execution_count": 18,
   "metadata": {},
   "outputs": [],
   "source": [
    "source_dir = 'faces'\n",
    "\n",
    "confused_dir = 'confused' # fear disgust neutral\n",
    "focused_dir=\"focused\" # happiness anger neutral\n",
    "distracted_dir=\"distracted\" # fear disgust sadness\n",
    "neutral_dir=\"neutral\"\n",
    "\n",
    "targets=[confused_dir, focused_dir, distracted_dir,neutral_dir]\n",
    "\n",
    "angerName1 = '_a_a';angerName2 = '_a_b'\n",
    "fearName1 = '_f_a';fearName2 = '_f_b'\n",
    "disgustName1='_d_a';disgustName2='_d_b'\n",
    "neutralName1='_n_a';neutralName2='_n_b'\n",
    "happyName1='_h_a' ;happyName2='_h_b'\n",
    "sadName1='_s_a';sadName2='_s_b'\n",
    "\n",
    "anger=[angerName1,angerName2]\n",
    "fear=[fearName1,fearName2]\n",
    "disgust=[disgustName1,disgustName2] \n",
    "neutral=[neutralName1,neutralName2]    \n",
    "happy=[happyName1,happyName2]\n",
    "sad=[sadName1,sadName2]\n",
    "\n",
    "# feel combos\n",
    "conf=[fear,disgust,neutral]\n",
    "focus=[happy,anger,neutral]\n",
    "distract=[fear,disgust,sad]\n",
    "neutralSource=[neutral]\n",
    "\n",
    "sources=[conf,focus,distract,neutralSource]   \n",
    "\n",
    "\n",
    "\n"
   ]
  },
  {
   "cell_type": "code",
   "execution_count": 6,
   "metadata": {},
   "outputs": [],
   "source": [
    "\n",
    "def sort_images_by_substring(source_dir, target_dir, specific_substring):\n",
    "    # Create target directory if it doesn't exist\n",
    "    if not os.path.exists(target_dir):\n",
    "        os.makedirs(target_dir)\n",
    "        \n",
    "    # Iterate through files in source directory\n",
    "    for filename in os.listdir(source_dir):\n",
    "        # Check if filename ends with the specific substring\n",
    "        if filename.endswith(specific_substring):\n",
    "            # Define source and destination paths\n",
    "            src_path = os.path.join(source_dir, filename)\n",
    "            dst_path = os.path.join(target_dir, filename)\n",
    "            # Copy file\n",
    "            shutil.copy(src_path, dst_path)\n",
    "            print(f'Copied: {filename}')\n",
    "\n",
    "\n"
   ]
  },
  {
   "cell_type": "code",
   "execution_count": 23,
   "metadata": {},
   "outputs": [
    {
     "name": "stdout",
     "output_type": "stream",
     "text": [
      "_f_a    confused\n",
      "_f_b    confused\n",
      "_d_a    confused\n",
      "_d_b    confused\n",
      "_n_a    confused\n",
      "_n_b    confused\n",
      "_h_a    focused\n",
      "_h_b    focused\n",
      "_a_a    focused\n",
      "_a_b    focused\n",
      "_n_a    focused\n",
      "_n_b    focused\n",
      "_f_a    distracted\n",
      "_f_b    distracted\n",
      "_d_a    distracted\n",
      "_d_b    distracted\n",
      "_s_a    distracted\n",
      "_s_b    distracted\n",
      "_n_a    neutral\n",
      "_n_b    neutral\n"
     ]
    }
   ],
   "source": [
    "for i in range(4):\n",
    "    target_dir = targets[i]\n",
    "    source=sources[i]\n",
    "\n",
    "    for feel in source:\n",
    "        for feelName in feel:\n",
    "            print(f\"{feelName}    {target_dir}\")\n",
    "            sort_images_by_substring(source_dir, target_dir, feelName)\n",
    "            \n",
    "    \n",
    "    \n"
   ]
  },
  {
   "cell_type": "code",
   "execution_count": null,
   "metadata": {},
   "outputs": [],
   "source": [
    "# Usage\n",
    "source_dir = '/path/to/source/folder'\n",
    "target_dir = '/path/to/target/folder'\n",
    "specific_substring = 'substring.jpg'\n",
    "sort_images_by_substring(source_dir, target_dir, specific_substring)"
   ]
  }
 ],
 "metadata": {
  "kernelspec": {
   "display_name": "Python 3",
   "language": "python",
   "name": "python3"
  },
  "language_info": {
   "codemirror_mode": {
    "name": "ipython",
    "version": 3
   },
   "file_extension": ".py",
   "mimetype": "text/x-python",
   "name": "python",
   "nbconvert_exporter": "python",
   "pygments_lexer": "ipython3",
   "version": "3.11.9"
  }
 },
 "nbformat": 4,
 "nbformat_minor": 2
}
