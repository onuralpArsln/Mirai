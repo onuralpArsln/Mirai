{
 "cells": [
  {
   "cell_type": "markdown",
   "metadata": {},
   "source": [
    "# How To Sort DataSet"
   ]
  },
  {
   "cell_type": "code",
   "execution_count": null,
   "metadata": {},
   "outputs": [],
   "source": [
    "import os\n",
    "import shutil\n"
   ]
  },
  {
   "cell_type": "code",
   "execution_count": null,
   "metadata": {},
   "outputs": [],
   "source": [
    "source_dir = '/faces'\n",
    "\n",
    "confused_dir = '/confused' # fear disgust neutral\n",
    "focused_dir=\"/focused\" # happiness anger neutral\n",
    "distracted_dir=\"/distracted\" # fear disgust sadness\n",
    "\n",
    "angerName1 = '_a_a'\n",
    "angerName2 = '_a_b'\n",
    "\n",
    "fearName1 = '_f_a'\n",
    "fearName2 = '_f_b'\n",
    "\n",
    "disgustName1='_d_a'\n",
    "disgustName2='_d_b'\n",
    "\n",
    "neutralName1='_n_a'\n",
    "neutralName2='_n_b'\n",
    "\n",
    "happyName1='_h_a'\n",
    "happyName2='_h_b'\n",
    "\n",
    "sadName1='_s_a'\n",
    "sadName2='_s_b'"
   ]
  },
  {
   "cell_type": "code",
   "execution_count": null,
   "metadata": {},
   "outputs": [],
   "source": [
    "\n",
    "def sort_images_by_substring(source_dir, target_dir, specific_substring):\n",
    "    # Create target directory if it doesn't exist\n",
    "    if not os.path.exists(target_dir):\n",
    "        os.makedirs(target_dir)\n",
    "    \n",
    "    # Iterate through files in source directory\n",
    "    for filename in os.listdir(source_dir):\n",
    "        # Check if filename ends with the specific substring\n",
    "        if filename.endswith(specific_substring):\n",
    "            # Define source and destination paths\n",
    "            src_path = os.path.join(source_dir, filename)\n",
    "            dst_path = os.path.join(target_dir, filename)\n",
    "            # Copy file\n",
    "            shutil.copy(src_path, dst_path)\n",
    "            print(f'Copied: {filename}')\n",
    "\n",
    "# Usage\n",
    "source_dir = '/path/to/source/folder'\n",
    "target_dir = '/path/to/target/folder'\n",
    "specific_substring = 'substring.jpg'\n",
    "sort_images_by_substring(source_dir, target_dir, specific_substring)\n"
   ]
  }
 ],
 "metadata": {
  "language_info": {
   "name": "python"
  }
 },
 "nbformat": 4,
 "nbformat_minor": 2
}
